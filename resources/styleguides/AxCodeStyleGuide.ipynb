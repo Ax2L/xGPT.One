{
 "cells": [
  {
   "cell_type": "markdown",
   "metadata": {},
   "source": [
    "# Style Guide for Improved Script and Configuration Files\n",
    "\n",
    "### General Guidelines\n",
    "\n",
    "- **Clarity and Readability**: Maintain clarity and readability by using clear naming conventions and consistent indentation.\n",
    "- **Annotations and Comments**: Clearly annotate sections and functionalities, using consistent comment styles to delineate them.\n",
    "- **Color Coding**: Assign a color scheme to each category or section for readability and easier navigation.\n",
    "- **Import and Dependency Management**: Organize imports and dependencies neatly at the beginning of the file.\n",
    "- **Consistency**: Ensure that any pattern or convention started is followed throughout.\n",
    "\n",
    "### Color Coding Scheme for VSCode\n",
    "\n",
    "To facilitate clear separation and quick navigation through the files, assign a color scheme to each categorized section. Here is a proposed schema:\n",
    "\n",
    "- **Imports and Dependencies**: rgba(250, 315, 200, 0.03)\n",
    "- **Initial Configuration/Setup**: rgba(50, 100, 110, 0.2)\n",
    "- **Navigation Data and Theme**: rgba(100, 200, 150, 0.05)\n",
    "- **Authentication Display**: rgba(250, 15, 100, 0.05)\n",
    "- **Dashboard Elements**: rgba(100, 200, 150, 0.05)\n",
    "- **Switch Pages/Login**: rgba(120, 105, 10, 0.2)\n",
    "- **Switch Pages/Create Account**: rgba(20, 105, 10, 0.2)\n",
    "\n",
    "### Comments and Annotations\n",
    "\n",
    "Maintain a distinct style for different types of comments:\n",
    "\n",
    "- **Section Headers**: Use a combination of symbols and words for section delineation.\n",
    "  Example: `#// region [Color Code] Section Name`\n",
    "  \n",
    "- **Sub-sections**: Use a combination of symbols and/or letters with a clear title.\n",
    "  Example: \n",
    "  #* ||--------------------------------------------------------------------------------||\n",
    "  #* ||                                   # Sub-Section Name                           ||\n",
    "  #* ||--------------------------------------------------------------------------------||"
   ]
  },
  {
   "cell_type": "markdown",
   "metadata": {},
   "source": [
    "\n",
    "- **Inline Comments**: Use a succinct and clear format for brief, inline comments.\n",
    "  Example: `# Only one in the Project is allowed!`\n",
    "  \n",
    "- **To-do**: Make sure to clearly mark anything that needs future attention with \"TODO\".\n",
    "  Example: `# TODO: Refactor for efficiency`\n",
    "  \n",
    "- **Temporary Blocks or Testing**: If a code block is temporary or for testing, mark clearly with \"TESTING\".\n",
    "  Example: `# TESTING: this block is for debugging`\n",
    "\n",
    "### Imports and Dependency Management\n",
    "\n",
    "- Keep all the imports at the top of the script, neatly organized.\n",
    "- Separate third-party and internal imports with a newline.\n",
    "- If import lines are too long, use parentheses and multiline.\n",
    "\n",
    "### Formatting and Naming\n",
    "\n",
    "- Use a consistent naming convention like snake_case for variables and function names, and PascalCase for class names.\n",
    "- Ensure clear function, variable, and class names to describe their purpose or functionality.\n",
    "- Format code regularly to ensure that it adheres to PEP 8 guidelines.\n",
    "  \n",
    "### Error Handling\n",
    "\n",
    "- Properly catch and handle exceptions, providing useful feedback and maintaining a pleasant user experience.\n",
    "- Do not leave empty except blocks. Always catch specific exceptions.\n",
    "\n",
    "### Script Example Updates\n",
    "\n",
    "1. **Consistent Comment Blocks**:\n",
    "    - Ensure all section header comment blocks follow a consistent style.\n",
    "    - Apply the color-coding scheme discussed above.\n",
    "\n",
    "2. **Function and Variable Naming**:\n",
    "    - Name functions and variables clearly and in a manner that implies their use or purpose.\n",
    "\n",
    "3. **Error Handling**:\n",
    "    - Be explicit in catching exceptions.\n",
    "    - Provide informative error messages to the user.\n",
    "\n",
    "4. **Configuration Loading**:\n",
    "    - Provide clear and comprehensive inline comments.\n",
    "    - Ensure secure management and storage of sensitive data like API keys.\n",
    "\n",
    "### Configuration File Example Updates\n",
    "\n",
    "1. **Secret Management**:\n",
    "    - Never store sensitive information like API keys directly in configuration files.\n",
    "    - Consider using environment variables or secure vaults for storing secrets.\n",
    "\n",
    "2. **Comments and Annotations**:\n",
    "    - Follow the consistent comment and annotation formats used in scripts.\n",
    "    - Utilize the color-coding scheme for different configuration sections.\n",
    "    - Keep inline comments concise and informative.\n",
    "\n",
    "3. **Variable Naming**:\n",
    "    - Ensure variables are clearly named to communicate their use.\n",
    "\n",
    "### Example Updates:\n",
    "Here are small examples to incorporate the mentioned points:\n",
    "\n",
    "- **Script**:"
   ]
  },
  {
   "cell_type": "code",
   "execution_count": null,
   "metadata": {},
   "outputs": [],
   "source": [
    "\n",
    "#// region [ rgba(250, 315, 200, 0.03)] Imports\n",
    "\n",
    "import streamlit as st\n",
    "from components.utils import load_config  # Organizing import statements\n",
    "\n",
    "#// endregion"
   ]
  },
  {
   "cell_type": "markdown",
   "metadata": {},
   "source": [
    "\n",
    "- **Config**"
   ]
  },
  {
   "cell_type": "code",
   "execution_count": null,
   "metadata": {},
   "outputs": [],
   "source": [
    "\n",
    "#// region [ rgba(0, 100, 250, 0.03)] OpenAI and Weaviate Settings\n",
    "\n",
    "OPENAI_API_KEY=OPENAI_API_KEY  # Using environment variables for secret management\n",
    "\n",
    "#// endregion"
   ]
  },
  {
   "cell_type": "markdown",
   "metadata": {},
   "source": []
  },
  {
   "cell_type": "code",
   "execution_count": null,
   "metadata": {},
   "outputs": [],
   "source": [
    "\n",
    "#// region [ rgba(0, 100, 250, 0.03)] OpenAI and Weaviate Settings\n",
    "\n",
    "OPENAI_API_KEY=OPENAI_API_KEY  # Using environment variables for secret management\n",
    "\n",
    "#// endregion"
   ]
  },
  {
   "cell_type": "markdown",
   "metadata": {},
   "source": [
    "\n",
    "### **Comprehensive Guide for Script Structure and Styling**"
   ]
  },
  {
   "cell_type": "markdown",
   "metadata": {},
   "source": [
    "\n",
    "#### **1. Script Header**\n",
    "\n",
    "Use the script header to provide a visually striking and informative initiation to your script."
   ]
  },
  {
   "cell_type": "code",
   "execution_count": null,
   "metadata": {},
   "outputs": [],
   "source": [
    "\n",
    "\"\"\"\n",
    "╔══════════════════════════════════════════════════════════════════════════╗\n",
    "║                          🚀🚀🚀xGPT.One                                   ║\n",
    "║     Unleash the Power of AI with Unprecedented Accessibility             ║\n",
    "╟──────────────────────────────────────────────────────────────────────────╢\n",
    "║ Script Name    : [Script Name]                                           ║\n",
    "║ Description    : [Detailed Description]                                  ║\n",
    "║ Author         : [Author Name]                                           ║\n",
    "║ Version        : [Version Info]                                          ║\n",
    "║ License        : [License Info]                                          ║\n",
    "╟──────────────────────────────────────────────────────────────────────────╢\n",
    "║ Additional Details                                                       ║\n",
    "║ - [Any other relevant details]                                           ║\n",
    "╚══════════════════════════════════════════════════════════════════════════╝\n",
    "\"\"\""
   ]
  },
  {
   "cell_type": "markdown",
   "metadata": {},
   "source": [
    "\n",
    "#### **2. Comment Blocks and Sections**\n",
    "\n",
    "Use specially designed comment blocks and sections to denote various sections, functionalities, and alerts within your script."
   ]
  },
  {
   "cell_type": "code",
   "execution_count": null,
   "metadata": {},
   "outputs": [],
   "source": [
    "\n",
    "#* ==============================================\n",
    "#*                IMPORTS SECTION\n",
    "#* =============================================="
   ]
  },
  {
   "cell_type": "code",
   "execution_count": null,
   "metadata": {},
   "outputs": [],
   "source": [
    "\n",
    "#? ---------------------------------------------\n",
    "#?              ADDITIONAL LOGIC\n",
    "#? ---------------------------------------------"
   ]
  },
  {
   "cell_type": "code",
   "execution_count": null,
   "metadata": {},
   "outputs": [],
   "source": [
    "\n",
    "\"\"\"\n",
    "#! ╔════════════════════════════════════════════════════════════════════════╗\n",
    "#! ║                              WARNING                                   ║\n",
    "#! ║ Always validate data before proceeding to ensure safety and correctness║\n",
    "#! ╚════════════════════════════════════════════════════════════════════════╝\n",
    "\"\"\""
   ]
  },
  {
   "cell_type": "code",
   "execution_count": null,
   "metadata": {},
   "outputs": [],
   "source": [
    "\n",
    "#? ╔════════════════════════════════════════════════════════════════════════╗\n",
    "#? ║ Function Name : example_function                                       ║\n",
    "#? ║ Description   : This function serves as an example                     ║\n",
    "#? ║ Parameters    : None                                                   ║\n",
    "#? ║ Return        : None                                                   ║\n",
    "#? ╚════════════════════════════════════════════════════════════════════════╝"
   ]
  },
  {
   "cell_type": "code",
   "execution_count": null,
   "metadata": {},
   "outputs": [],
   "source": [
    "\n",
    "\"\"\"\n",
    "// ╔════════════════════════════════════════════════════════════════════════╗\n",
    "// ║                         DEPRECATED FUNCTION                            ║\n",
    "// ║ This function has been deprecated in favor of [NewFunction]. Use that  ║\n",
    "// ║ method for all new development.                                        ║\n",
    "// ╚════════════════════════════════════════════════════════════════════════╝\n",
    "\"\"\""
   ]
  },
  {
   "cell_type": "markdown",
   "metadata": {},
   "source": [
    "\n",
    "#### **3. VSCode Color-Coding**\n",
    "\n",
    "Ensure to have the \"Better Comments\" extension installed in VSCode and configure the colors as follows:"
   ]
  },
  {
   "cell_type": "markdown",
   "metadata": {},
   "source": [
    "\n",
    "\"better-comments.tags\": [\n",
    "  {\"tag\": \"!\", \"color\": \"#FF2D00\"},\n",
    "  {\"tag\": \"?\", \"color\": \"#3498DB\"},\n",
    "  {\"tag\": \"//\", \"color\": \"#474747\", \"strikethrough\": true},\n",
    "  {\"tag\": \"todo\", \"color\": \"#FF8C00\"},\n",
    "  {\"tag\": \"*\", \"color\": \"#98C379\"}\n",
    "]"
   ]
  },
  {
   "cell_type": "markdown",
   "metadata": {},
   "source": [
    "\n",
    "#### **4. Style Guide for Improved Script and Configuration Files**\n",
    "\n",
    "Maintain a thorough style guide as shared in the previous messages:\n",
    "\n",
    "- **Clarity and Readability**\n",
    "- **Annotations and Comments**\n",
    "- **Color Coding**\n",
    "- **Import and Dependency Management**\n",
    "- **Consistency**\n",
    "- **Comments and Annotations**\n",
    "- **Imports and Dependency Management**\n",
    "- **Formatting and Naming**\n",
    "- **Error Handling**\n",
    "\n",
    "Refer to the previously shared detailed style guide for explicit details on each point. This guide ensures that the codebase is clean, readable, and organized across all scripts and configuration files, making it easy to manage, navigate, and understand by any developer or instance of ChatGPT interacting with it."
   ]
  }
 ],
 "metadata": {
  "language_info": {
   "name": "python"
  },
  "orig_nbformat": 4
 },
 "nbformat": 4,
 "nbformat_minor": 2
}
